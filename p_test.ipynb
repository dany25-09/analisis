{
 "cells": [
  {
   "cell_type": "markdown",
   "metadata": {},
   "source": [
    "[![Banner-Introducci-n.png](https://i.postimg.cc/VkCcqsvv/Banner-Introducci-n.png)](https://postimg.cc/4YsMZgzR)"
   ]
  },
  {
   "cell_type": "markdown",
   "metadata": {},
   "source": [
    "# Introducción a ciencia de datos\n",
    "## L1: La significancia estadística y los intervalos de confianza \n",
    "\n",
    "De acuerdo con el caso de uso del sector retail queremos inferir o comprobar algún tipo de hipótesis y para poder realizar este tipo de tareas, existen varias herramientas, entre ellas están los intervalos de confianza y el p-test.\n",
    "\n",
    "### Objetivos\n",
    "1. Construir un intervalo de confianza\n",
    "2. Entender la validación de hipótesis\n",
    "3. Construir un p-test para la comparación de muestras\n"
   ]
  },
  {
   "cell_type": "markdown",
   "metadata": {},
   "source": [
    "### 1. Contexto del caso\n",
    "La organización necesita identificar estrategias que permitan minimizar los costos de envío a las diferentes zonas, para esto es imperativo identificar si existen lugares que tienen un alto costo de envío o por el contrario no se encuentran diferencias significativas entre los promedios de envío de los lugares contemplados\n",
    "\n",
    "### 2. Importación de librerías y archivos\n",
    "En las siguientes líneas de código se importaran los materiales de trabajo necesarios para desarrollar el caso de uso, en esto se incluyen las *librerías y los datos*"
   ]
  },
  {
   "cell_type": "code",
   "execution_count": 25,
   "metadata": {},
   "outputs": [],
   "source": [
    "# Importar las librerías necesarias según el análisis que se vaya a realizar\n",
    "# Librería para comando de sistema\n",
    "import os\n",
    "# Librería para manejo de datos\n",
    "import pandas as pd\n",
    "#librería para cálculos numéricos\n",
    "import numpy as np\n",
    "# Calcular el test estadístico\n",
    "from statsmodels.stats import weightstats as stests\n",
    "#librería para graficar\n",
    "import matplotlib.pyplot as plt"
   ]
  },
  {
   "cell_type": "code",
   "execution_count": 15,
   "metadata": {},
   "outputs": [],
   "source": [
    "# cargar los datos en csv\n",
    "data= pd.read_csv('Datos_C1_Introduccion_M3.csv', sep=';')"
   ]
  },
  {
   "cell_type": "markdown",
   "metadata": {},
   "source": [
    "Es importante tener en cuenta la visualización de los datos porque además de contexto se puede entender mucho mejor de qué se está hablando y qué tipos de datos se han cargado desde la máquina"
   ]
  },
  {
   "cell_type": "code",
   "execution_count": 16,
   "metadata": {
    "scrolled": true
   },
   "outputs": [
    {
     "data": {
      "text/html": [
       "<div>\n",
       "<style scoped>\n",
       "    .dataframe tbody tr th:only-of-type {\n",
       "        vertical-align: middle;\n",
       "    }\n",
       "\n",
       "    .dataframe tbody tr th {\n",
       "        vertical-align: top;\n",
       "    }\n",
       "\n",
       "    .dataframe thead th {\n",
       "        text-align: right;\n",
       "    }\n",
       "</style>\n",
       "<table border=\"1\" class=\"dataframe\">\n",
       "  <thead>\n",
       "    <tr style=\"text-align: right;\">\n",
       "      <th></th>\n",
       "      <th>producto_id</th>\n",
       "      <th>precio</th>\n",
       "      <th>valor_flete</th>\n",
       "      <th>departamento_vendedor</th>\n",
       "      <th>peso_g_producto</th>\n",
       "      <th>longitud_cm_producto</th>\n",
       "      <th>altura_cm_producto</th>\n",
       "      <th>ancho_cm_producto</th>\n",
       "      <th>nombre_categoria_producto</th>\n",
       "    </tr>\n",
       "  </thead>\n",
       "  <tbody>\n",
       "    <tr>\n",
       "      <th>0</th>\n",
       "      <td>d1ef230269a528a5683f93b17ced0fbb</td>\n",
       "      <td>39.99</td>\n",
       "      <td>17.92</td>\n",
       "      <td>SP</td>\n",
       "      <td>1150.0</td>\n",
       "      <td>20.0</td>\n",
       "      <td>18.0</td>\n",
       "      <td>43.0</td>\n",
       "      <td>brinquedos</td>\n",
       "    </tr>\n",
       "    <tr>\n",
       "      <th>1</th>\n",
       "      <td>8d0fb54bb58d39a72269eb8fc708e865</td>\n",
       "      <td>23.90</td>\n",
       "      <td>7.43</td>\n",
       "      <td>SP</td>\n",
       "      <td>200.0</td>\n",
       "      <td>16.0</td>\n",
       "      <td>10.0</td>\n",
       "      <td>16.0</td>\n",
       "      <td>esporte_lazer</td>\n",
       "    </tr>\n",
       "    <tr>\n",
       "      <th>2</th>\n",
       "      <td>2ffdf10e724b958c0f7ea69e97d32f64</td>\n",
       "      <td>213.90</td>\n",
       "      <td>13.00</td>\n",
       "      <td>SP</td>\n",
       "      <td>263.0</td>\n",
       "      <td>17.0</td>\n",
       "      <td>12.0</td>\n",
       "      <td>13.0</td>\n",
       "      <td>relogios_presentes</td>\n",
       "    </tr>\n",
       "    <tr>\n",
       "      <th>3</th>\n",
       "      <td>ff5d7f21d255435967dfbe72b5dcdb57</td>\n",
       "      <td>39.00</td>\n",
       "      <td>15.10</td>\n",
       "      <td>SP</td>\n",
       "      <td>167.0</td>\n",
       "      <td>17.0</td>\n",
       "      <td>3.0</td>\n",
       "      <td>17.0</td>\n",
       "      <td>telefonia</td>\n",
       "    </tr>\n",
       "    <tr>\n",
       "      <th>4</th>\n",
       "      <td>4a52073965ad17f345f579bdbdbabd74</td>\n",
       "      <td>35.40</td>\n",
       "      <td>12.23</td>\n",
       "      <td>SP</td>\n",
       "      <td>350.0</td>\n",
       "      <td>16.0</td>\n",
       "      <td>5.0</td>\n",
       "      <td>11.0</td>\n",
       "      <td>perfumaria</td>\n",
       "    </tr>\n",
       "  </tbody>\n",
       "</table>\n",
       "</div>"
      ],
      "text/plain": [
       "                        producto_id  precio  valor_flete  \\\n",
       "0  d1ef230269a528a5683f93b17ced0fbb   39.99        17.92   \n",
       "1  8d0fb54bb58d39a72269eb8fc708e865   23.90         7.43   \n",
       "2  2ffdf10e724b958c0f7ea69e97d32f64  213.90        13.00   \n",
       "3  ff5d7f21d255435967dfbe72b5dcdb57   39.00        15.10   \n",
       "4  4a52073965ad17f345f579bdbdbabd74   35.40        12.23   \n",
       "\n",
       "  departamento_vendedor  peso_g_producto  longitud_cm_producto  \\\n",
       "0                    SP           1150.0                  20.0   \n",
       "1                    SP            200.0                  16.0   \n",
       "2                    SP            263.0                  17.0   \n",
       "3                    SP            167.0                  17.0   \n",
       "4                    SP            350.0                  16.0   \n",
       "\n",
       "   altura_cm_producto  ancho_cm_producto nombre_categoria_producto  \n",
       "0                18.0               43.0                brinquedos  \n",
       "1                10.0               16.0             esporte_lazer  \n",
       "2                12.0               13.0        relogios_presentes  \n",
       "3                 3.0               17.0                 telefonia  \n",
       "4                 5.0               11.0                perfumaria  "
      ]
     },
     "execution_count": 16,
     "metadata": {},
     "output_type": "execute_result"
    }
   ],
   "source": [
    "#visualizar los primeros registros\n",
    "data.head(5)"
   ]
  },
  {
   "cell_type": "markdown",
   "metadata": {},
   "source": [
    "### 3. Intervalo de confianza\n",
    "El intervalo de confianza (IC) es esencial en las estadísticas y muy importante para los científicos de datos. \n",
    "Como suena, el intervalo de confianza es un rango de valores. En condiciones ideales, debe contener la mejor estimación de un parámetro estadístico. Se expresa como porcentaje. El intervalo de confianza del 95% es el más común. Puede utilizar otros valores como 97%, 90%, 75% o incluso 99% de intervalo de confianza si su investigación lo exige.\n",
    "\n",
    "En las siguientes líneas vamos a calcular el intervalo de confianza para el valor de flete medio de todos los envíos\n",
    "\n",
    "Primero obtener los valores necesarios para su cálculo:\n",
    "* 𝑋=𝑀𝑒𝑑𝑖𝑎 𝑑𝑒 𝑙𝑎 𝑚𝑢𝑒𝑠𝑡𝑟𝑎 \n",
    "* 𝛼=𝑆𝑖𝑔𝑛𝑖𝑓𝑖𝑐𝑎𝑛𝑐𝑖𝑎\n",
    "* 𝜎=𝐷𝑒𝑠𝑣𝑖𝑎𝑐𝑖ó𝑛 𝐸𝑠𝑡𝑎𝑛𝑑𝑎𝑟\n",
    "* 𝑛=𝑇𝑎𝑚𝑎ñ𝑜 𝑑𝑒 𝑙𝑎 𝑚𝑢𝑒𝑠𝑡𝑟𝑎 \n",
    "* 𝑧=𝑉𝑎𝑙𝑜𝑟 𝑑𝑒 𝑧𝑇𝑒𝑠𝑡"
   ]
  },
  {
   "cell_type": "code",
   "execution_count": 17,
   "metadata": {},
   "outputs": [],
   "source": [
    "#Media de la muestra\n",
    "x=data['valor_flete'].mean()\n",
    "#significancia\n",
    "alpha=0.05 #para tener el 95% de confianza\n",
    "# Desviación estándar\n",
    "sigma=data['valor_flete'].std()\n",
    "# Tamaño de la muestra\n",
    "n=len(data['valor_flete'])\n",
    "#Valor del test \n",
    "z=1.96"
   ]
  },
  {
   "cell_type": "markdown",
   "metadata": {},
   "source": [
    "El valor de z con ese nivel de significancia se puede obtener de la siguiente tabla, este depende exclusivamente del nivel de  significacncia que se elija\n",
    "\n",
    "[![0*i0yTYIZw0pgaZAsh.png](https://cdn-images-1.medium.com/max/800/0*i0yTYIZw0pgaZAsh.png)]()"
   ]
  },
  {
   "cell_type": "markdown",
   "metadata": {},
   "source": [
    "Con los valores de construcción del intervalo es posible calcular fácilmente los intervalos con la siguiente fórmula"
   ]
  },
  {
   "cell_type": "code",
   "execution_count": 18,
   "metadata": {},
   "outputs": [
    {
     "data": {
      "text/plain": [
       "[20.31473890393221, 21.249525096067856]"
      ]
     },
     "execution_count": 18,
     "metadata": {},
     "output_type": "execute_result"
    }
   ],
   "source": [
    "#error estándar\n",
    "error_estandar = sigma /np.sqrt(n)\n",
    "#cálculo intervalos de confianza\n",
    "limite_inferior = x - z* error_estandar  \n",
    "limite_superior = x + z* error_estandar\n",
    "#Almacenar los dos límites del intervalo\n",
    "intervalo=[limite_inferior, limite_superior]\n",
    "intervalo"
   ]
  },
  {
   "cell_type": "markdown",
   "metadata": {},
   "source": [
    "Esto nos indica que el valor real del promedio poblacional(que es desconocido porque trabajamos conuna muestra) está entre 20.3 y 21.2 con un 95% de confianza"
   ]
  },
  {
   "cell_type": "markdown",
   "metadata": {},
   "source": [
    "### 4. Validación de hipótesis\n",
    "La prueba de hipótesis es un método estadístico que se utiliza para tomar decisiones estadísticas utilizando datos experimentales. La prueba de hipótesis es básicamente una suposición que hacemos sobre el parámetro de población.\n",
    "\n",
    "Una prueba de hipótesis evalúa dos enunciados mutuamente excluyentes sobre una población para determinar qué enunciado está mejor respaldado por los datos de muestra. Cuando decimos que un hallazgo es estadísticamente significativo, es gracias a una prueba de hipótesis.\n",
    "\n",
    "### 4.1. Hipótesis\n",
    "\n",
    "**Hipótesis nula:** Es una declaración general o posición predeterminada de que no existe relación entre dos fenómenos medidos, o no hay asociación entre grupos.\n",
    "En otras palabras, es una suposición básica o se basa en el conocimiento del dominio o del problema.\n",
    "\n",
    "**Hipótesis alternativa:** Es la hipótesis utilizada en la prueba de hipótesis que es contraria a la hipótesis nula. Por lo general, se considera que las observaciones son el resultado de un efecto real (con cierta cantidad de variación aleatoria superpuesta)"
   ]
  },
  {
   "cell_type": "markdown",
   "metadata": {},
   "source": [
    "### 5. Z-test\n",
    "Una prueba z es una prueba estadística que se utiliza para determinar si dos medias poblacionales son diferentes cuando se conocen las varianzas y el tamaño de la muestra es grande. Se supone que la estadística de la prueba tiene una distribución normal y se deben conocer los parámetros, como la desviación estándar, para poder realizar una prueba z precisa.\n",
    "\n",
    "Supuestos importantes:\n",
    "\n",
    "* Sus datos deben seleccionarse al azar de una población, donde cada elemento tiene la misma probabilidad de ser seleccionado.\n",
    "* Los tamaños de las muestras deben ser iguales si es posible.\n",
    "\n",
    "\n",
    "En este caso vamos a tomar dos regiones de envío para revisar la media muestral a través de este test  "
   ]
  },
  {
   "cell_type": "code",
   "execution_count": 49,
   "metadata": {
    "scrolled": true
   },
   "outputs": [
    {
     "data": {
      "text/plain": [
       "<AxesSubplot:xlabel='departamento_vendedor'>"
      ]
     },
     "execution_count": 49,
     "metadata": {},
     "output_type": "execute_result"
    },
    {
     "data": {
      "image/png": "[encoded data removed]",
      "text/plain": [
       "<Figure size 432x288 with 1 Axes>"
      ]
     },
     "metadata": {
      "needs_background": "light"
     },
     "output_type": "display_data"
    }
   ],
   "source": [
    "# Elegir las ciudades\n",
    "data_flete=data.groupby('departamento_vendedor').mean().reset_index()[['departamento_vendedor','valor_flete']]\n",
    "#graficar lasciudades por promedios\n",
    "data_flete.plot.bar(x='departamento_vendedor', y='valor_flete')"
   ]
  },
  {
   "cell_type": "markdown",
   "metadata": {},
   "source": [
    "Por la cantidad de datos de los departamento de PR y RJ además por la cercanía de los promedios se deciden elegir estas dos zonas para revisión si el parámetro poblacional del promedio del valor del flete es igual (ya que en este momento solamente contamos con el parámetro muestral). Así nuestra prueba de hipótesis será:\n",
    "\n",
    "* H0 : El promedio de los dos grupos son iguales\n",
    "* H1 : El promedio de los dos grupos **NO son iguales**\n"
   ]
  },
  {
   "cell_type": "code",
   "execution_count": 47,
   "metadata": {
    "scrolled": true
   },
   "outputs": [
    {
     "name": "stdout",
     "output_type": "stream",
     "text": [
      "Promedio GO: 23.898668224299072\n",
      "Promedio MA: 20.063486238532104\n"
     ]
    }
   ],
   "source": [
    "#Mostrar promedio de GO y MA\n",
    "flete_PR=data[data['departamento_vendedor']=='PR']['valor_flete']\n",
    "flete_RJ=data[data['departamento_vendedor']=='RJ']['valor_flete']\n",
    "print('Promedio GO: '+str(flete_PR.mean()))\n",
    "print('Promedio MA: '+str(flete_RJ.mean()))"
   ]
  },
  {
   "cell_type": "code",
   "execution_count": 50,
   "metadata": {},
   "outputs": [
    {
     "name": "stdout",
     "output_type": "stream",
     "text": [
      "Valor de z: 2.4509010218215392\n",
      "Valor p: 0.014249913124649237\n"
     ]
    }
   ],
   "source": [
    "# Valores de z y p\n",
    "ztest ,pval1 = stests.ztest(flete_PR, x2=flete_RJ, value=0,alternative='two-sided')\n",
    "print('Valor de z: '+str(ztest))\n",
    "print('Valor p: '+ str(pval1))"
   ]
  },
  {
   "cell_type": "code",
   "execution_count": 52,
   "metadata": {},
   "outputs": [
    {
     "name": "stdout",
     "output_type": "stream",
     "text": [
      "Rechazar hipótesis nula\n"
     ]
    }
   ],
   "source": [
    "# Regla de decisión si el p valor es menor que la significancia escogida \n",
    "confianza=0.95\n",
    "significancia=1-confianza\n",
    "# Si se tiene menor valor se rechaza la hipótesis nula\n",
    "if pval1<significancia:\n",
    "    print(\"Rechazar hipótesis nula\")\n",
    "else:\n",
    "    print(\"No rechazar hipótesis nula\")"
   ]
  },
  {
   "cell_type": "markdown",
   "metadata": {},
   "source": [
    "Por lo tanto podemos inferir con un nivel de confianza del 95% que los promedios del valor de flete de estas dos zonas no es igual"
   ]
  }
 ],
 "metadata": {
  "kernelspec": {
   "display_name": "Python 3 (ipykernel)",
   "language": "python",
   "name": "python3"
  },
  "language_info": {
   "codemirror_mode": {
    "name": "ipython",
    "version": 3
   },
   "file_extension": ".py",
   "mimetype": "text/x-python",
   "name": "python",
   "nbconvert_exporter": "python",
   "pygments_lexer": "ipython3",
   "version": "3.11.5"
  }
 },
 "nbformat": 4,
 "nbformat_minor": 2
}
